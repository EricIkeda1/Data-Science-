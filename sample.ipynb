{
 "cells": [
  {
   "cell_type": "markdown",
   "id": "8a77807f92f26ee",
   "metadata": {},
   "source": [
    "# This is a sample Jupyter Notebook\n",
    "\n",
    "Below is an example of a code cell. \n",
    "Put your cursor into the cell and press Shift+Enter to execute it and select the next one, or click !here goes the icon of the corresponding button in the gutter! button.\n",
    "To debug a cell, press Alt+Shift+Enter, or click !here goes the icon of the corresponding button in the gutter! button.\n",
    "\n",
    "Press Double Shift to search everywhere for classes, files, tool windows, actions, and settings.\n",
    "\n",
    "To learn more about Jupyter Notebooks in PyCharm, see [help](https://www.jetbrains.com/help/pycharm/jupyter-notebook-support.html).\n",
    "For an overview of PyCharm, go to Help -> Learn IDE features or refer to [our documentation](https://www.jetbrains.com/help/pycharm/getting-started.html)."
   ]
  },
  {
   "cell_type": "code",
   "execution_count": null,
   "id": "f6c1e235c451499a",
   "metadata": {
    "ExecuteTime": {
     "end_time": "2024-05-30T22:23:23.161882Z",
     "start_time": "2024-05-30T22:23:21.278038Z"
    }
   },
   "outputs": [],
   "source": [
    "import os\n",
    "import tarfile\n",
    "import urllib\n",
    "\n",
    "from matplotlib import pyplot as plt"
   ]
  },
  {
   "cell_type": "code",
   "execution_count": 27,
   "id": "237524c6847666fe",
   "metadata": {
    "ExecuteTime": {
     "end_time": "2024-05-30T22:23:23.168695Z",
     "start_time": "2024-05-30T22:23:23.163915Z"
    }
   },
   "outputs": [],
   "source": [
    "DOWNLOAD_ROOT = \"https://raw.githubusercontent.com/ageron/handson-ml/master/\"\n",
    "HOUSING_PATH = os.path.join(\"datasets\", \"housing\")\n",
    "HOUSING_URL = DOWNLOAD_ROOT + \"datasets/housing/housing.tgz\""
   ]
  },
  {
   "cell_type": "code",
   "execution_count": 28,
   "id": "d6b2320900c6bd18",
   "metadata": {
    "ExecuteTime": {
     "end_time": "2024-05-30T22:23:23.175298Z",
     "start_time": "2024-05-30T22:23:23.169729Z"
    }
   },
   "outputs": [],
   "source": [
    "def fetch_housing_data(housing_url=HOUSING_URL, housing_path=HOUSING_PATH):\n",
    "    os.makedirs(housing_path, exist_ok=True)\n",
    "    tgz_path = os.path.join(housing_path, \"housing.tgz\")\n",
    "    urllib.request.urlretrieve(housing_url, tgz_path)\n",
    "    housing_tgz = tarfile.open(tgz_path)\n",
    "    housing_tgz.extractall(path=housing_path)\n",
    "    housing_tgz.close()"
   ]
  },
  {
   "cell_type": "code",
   "execution_count": 29,
   "id": "be207b1b6bebb7c",
   "metadata": {
    "ExecuteTime": {
     "end_time": "2024-05-30T22:23:23.182238Z",
     "start_time": "2024-05-30T22:23:23.177309Z"
    }
   },
   "outputs": [],
   "source": [
    "import pandas as pd\n",
    "\n",
    "def load_housing_data(housing_path=HOUSING_PATH):\n",
    "    csv_path = os.path.join(housing_path, \"housing.csv\")\n",
    "    return pd.read_csv(csv_path)"
   ]
  },
  {
   "cell_type": "code",
   "execution_count": 30,
   "id": "c01a2a918b9bb3b0",
   "metadata": {
    "ExecuteTime": {
     "end_time": "2024-05-30T22:23:23.190528Z",
     "start_time": "2024-05-30T22:23:23.184791Z"
    }
   },
   "outputs": [
    {
     "ename": "SyntaxError",
     "evalue": "invalid syntax (346441700.py, line 1)",
     "output_type": "error",
     "traceback": [
      "\u001B[1;36m  Cell \u001B[1;32mIn[30], line 1\u001B[1;36m\u001B[0m\n\u001B[1;33m    import matplotlib pyplot as plt\u001B[0m\n\u001B[1;37m                      ^\u001B[0m\n\u001B[1;31mSyntaxError\u001B[0m\u001B[1;31m:\u001B[0m invalid syntax\n"
     ]
    }
   ],
   "source": [
    "from matplotlib import pyplot\n",
    "import matplotlib pyplot as plt\n",
    "\n",
    "housing.hist(bins=50, figsize=(20, 15))\n",
    "plt.show()"
   ]
  },
  {
   "cell_type": "code",
   "execution_count": null,
   "id": "35a2c66728103b90",
   "metadata": {},
   "outputs": [],
   "source": [
    "import numpy as np\n",
    "def split_train_test(data, test_ratio):\n",
    "    shuffled_indices = np.random.permutation(len(data))\n",
    "    test_set_size = int(len(data) * test_ratio)\n",
    "    test_indices = shuffled_indices[:test_set_size]\n",
    "    train_indices = shuffled_indices[test_set_size:]\n",
    "    return data.iloc[train_indices], data.iloc[test_indices]"
   ]
  },
  {
   "cell_type": "code",
   "execution_count": null,
   "id": "87e6eb339f8e574f",
   "metadata": {},
   "outputs": [],
   "source": [
    "from zlib import crc32\n",
    "def test_set_check(identifier, test_ratio):\n",
    "    return crc32(np.int64(identifier)) & 0xffffffff < test_ratio * 2**32"
   ]
  },
  {
   "cell_type": "code",
   "execution_count": null,
   "id": "723325b1d2aed72c",
   "metadata": {},
   "outputs": [],
   "source": [
    "def split_train_test_by_id(data, test_ratio, id_column):\n",
    "    ids = data[id_column]\n",
    "    in_test_set = ids.apply(lambda id_: test_set_check(id_, test_ratio))\n",
    "    return data.loc[~in_test_set], data.loc[in_test_set]"
   ]
  },
  {
   "cell_type": "code",
   "execution_count": null,
   "id": "c288cfea58c78590",
   "metadata": {},
   "outputs": [],
   "source": [
    "housin_with_id = housing.reset_index()\n",
    "train_set, test_set = split_train_test_by_id(housin_with_id, 0.2, \"index\")"
   ]
  },
  {
   "cell_type": "code",
   "execution_count": null,
   "id": "b2bc719aa52164da",
   "metadata": {},
   "outputs": [],
   "source": [
    "housin_with_id[\"id\"] = housing[\"longitude\"] * 1000 + housing[\"latitude\"]\n",
    "train_set, test_set = split_train_test_by_id(housin_with_id, 0.2, \"id\")"
   ]
  },
  {
   "cell_type": "code",
   "execution_count": null,
   "id": "d3bfe47431fea367",
   "metadata": {},
   "outputs": [],
   "source": [
    "from skelearn.model_selection import train_test_split\n",
    "train_set, test_set = train_test_split(housing, test_size=0.2, random_state=42)\n",
    "housing[\"income_cat\"] = pd.cut(housing[\"median_income\"], bins=[0.,1.5,3.0,4.5,6.,np.inf], labels=[1,2,3,4,5])"
   ]
  },
  {
   "cell_type": "code",
   "execution_count": null,
   "id": "959d50dedd98e2b",
   "metadata": {},
   "outputs": [],
   "source": [
    "from sklearn.model_selection import StratifieldShuffleSplit\n",
    "\n",
    "split = StratifieldShuffleSplit(n_splits=1, test_size=0.2, random_state=42)\n",
    "for  train_index, test_index in split.split(housing, housing[income_cat]):\n",
    "    strat_train_set = housing.loc[train_index]\n",
    "    strat_test_set = housing.loc[test_index]"
   ]
  },
  {
   "cell_type": "code",
   "execution_count": null,
   "id": "4e2dfc32",
   "metadata": {},
   "outputs": [],
   "source": [
    "for set_ in (strat_train_set, strat_test_set):\n",
    "    set_.drop(\"income_cat\", axis=1, inplace=True)"
   ]
  },
  {
   "cell_type": "code",
   "execution_count": null,
   "id": "a78d5e3caaca4f9f",
   "metadata": {},
   "outputs": [],
   "source": "housing = strat_train_set.copy()"
  },
  {
   "cell_type": "code",
   "execution_count": null,
   "id": "73355fb5bd722919",
   "metadata": {},
   "outputs": [],
   "source": "housing.plot(kind=\"scatter\", x=\"longitude\", y=\"latitude\")"
  },
  {
   "cell_type": "code",
   "id": "94594eda4724ac74",
   "metadata": {
    "ExecuteTime": {
     "end_time": "2024-05-30T22:53:36.662829Z",
     "start_time": "2024-05-30T22:53:36.143362Z"
    }
   },
   "source": "housing.plot(kind=\"scatter\", x=\"longitude\", y=\"latitude\", alpha=0.1)",
   "outputs": [
    {
     "ename": "NameError",
     "evalue": "name 'housing' is not defined",
     "output_type": "error",
     "traceback": [
      "\u001B[1;31m---------------------------------------------------------------------------\u001B[0m",
      "\u001B[1;31mNameError\u001B[0m                                 Traceback (most recent call last)",
      "Cell \u001B[1;32mIn[1], line 1\u001B[0m\n\u001B[1;32m----> 1\u001B[0m housing\u001B[38;5;241m.\u001B[39mplot(kind\u001B[38;5;241m=\u001B[39m\u001B[38;5;124m\"\u001B[39m\u001B[38;5;124mscatter\u001B[39m\u001B[38;5;124m\"\u001B[39m, x\u001B[38;5;241m=\u001B[39m\u001B[38;5;124m\"\u001B[39m\u001B[38;5;124mlongitude\u001B[39m\u001B[38;5;124m\"\u001B[39m, y\u001B[38;5;241m=\u001B[39m\u001B[38;5;124m\"\u001B[39m\u001B[38;5;124mlatitude\u001B[39m\u001B[38;5;124m\"\u001B[39m, alpha\u001B[38;5;241m=\u001B[39m\u001B[38;5;241m0.1\u001B[39m)\n",
      "\u001B[1;31mNameError\u001B[0m: name 'housing' is not defined"
     ]
    }
   ],
   "execution_count": 1
  },
  {
   "cell_type": "code",
   "execution_count": null,
   "id": "f02c08658839484e",
   "metadata": {},
   "outputs": [],
   "source": [
    "housing.ploy(kind=\"scatter\", x=\"longitude\", y=\"latitude\", alpha=0.4),\n",
    "s=housing[\"population\"]/1000., label=\"population\", figsize=(10, 7),\n",
    "c=\"median_house_value\", cmap=plt.get_cmp(\"jet\"),colorbar=True,\n",
    ")\n",
    "plt.legend()"
   ]
  },
  {
   "cell_type": "code",
   "execution_count": null,
   "id": "51399436988bc470",
   "metadata": {},
   "outputs": [],
   "source": "corr_matrix = housing.corr()"
  },
  {
   "cell_type": "code",
   "execution_count": null,
   "id": "aa0ea34c0dd377f1",
   "metadata": {},
   "outputs": [],
   "source": "from pandas.plotting import scatter_matrix"
  },
  {
   "cell_type": "code",
   "execution_count": null,
   "id": "a81f8465929628e1",
   "metadata": {},
   "outputs": [],
   "source": [
    "attributes = [\"median_house_value\", \"median_income\", \"total_rooms\"],\n",
    "housing_median_age\n",
    "scatter_matrix(housing[attributes], figsize=(12, 6))"
   ]
  },
  {
   "cell_type": "code",
   "execution_count": null,
   "id": "57dfb7c9a9329800",
   "metadata": {},
   "outputs": [],
   "source": "housing.plot(kind=\"scatter\", x=\"median_income\", y=\"median_house_value\", alpha=0.1)"
  },
  {
   "metadata": {},
   "cell_type": "code",
   "outputs": [],
   "execution_count": null,
   "source": [
    "housing[\"rooms_per_household\"] = housing[\"total_rooms\"]/housing[\"households\"]\n",
    "housing[\"bedrooms_per_room\"] = housing[\"total_bedrooms\"]/housing[\"totalrooms\"]\\\n",
    "housing[\"population_per_household\"] = housing[\"population\"]/housing[\"households\"]"
   ],
   "id": "2d66943be7221f34"
  },
  {
   "metadata": {},
   "cell_type": "code",
   "outputs": [],
   "execution_count": null,
   "source": [
    "housin = strat_train_set.drop(\"median_house_value\", axis=1)\\\n",
    "housing_labels = strat_train_set[\"median_house_value\"].copy()"
   ],
   "id": "c9bbfd2b7308e78a"
  },
  {
   "metadata": {},
   "cell_type": "code",
   "outputs": [],
   "execution_count": null,
   "source": [
    "housing.dropna(subset=[\"total_bedrooms\"])\\\n",
    "housing.drop(\"total_bedrooms, axis=1\")\\\n",
    "median = housing[\"total_bedrooms\"].median()\\\n",
    "housing[\"total_bedrooms\"].fillana(median,inplace=True)"
   ],
   "id": "ba6766243f704110"
  },
  {
   "metadata": {},
   "cell_type": "code",
   "outputs": [],
   "execution_count": null,
   "source": [
    "from sklearn.impute import SimpleImputer\n",
    "imputer = SimpleImputer(strategy=\"median\")"
   ],
   "id": "edf87fa807700bd2"
  },
  {
   "metadata": {},
   "cell_type": "code",
   "outputs": [],
   "execution_count": null,
   "source": "housing_num housing.drop(\"ocean_proximity\", axis=1)",
   "id": "60ff8d0bb26c8b7b"
  },
  {
   "metadata": {},
   "cell_type": "code",
   "outputs": [],
   "execution_count": null,
   "source": "imputer.fit(housing_num)",
   "id": "7d2ae0523f3d7d9e"
  },
  {
   "metadata": {},
   "cell_type": "code",
   "outputs": [],
   "execution_count": null,
   "source": "X = imputer.transform(housing_num)",
   "id": "4b0c8e98a76e963d"
  },
  {
   "metadata": {},
   "cell_type": "code",
   "outputs": [],
   "execution_count": null,
   "source": "    housing_tr = pd.DataFrame(X, colums=housing_num.columns, index=housing_num.index)",
   "id": "a2f1b78e1602fc02"
  },
  {
   "metadata": {},
   "cell_type": "code",
   "outputs": [],
   "execution_count": null,
   "source": [
    "from sklearn.base import BaseEstimator, TransformerMixin\n",
    "room_ix, bedrooms_per_room = add_bedroom_per_room"
   ],
   "id": "a718449381dfe53e"
  },
  {
   "metadata": {},
   "cell_type": "code",
   "outputs": [],
   "execution_count": null,
   "source": [
    "def fit(self, X, y=None):\n",
    "    return self"
   ],
   "id": "bec08e419ecafce6"
  },
  {
   "metadata": {},
   "cell_type": "code",
   "outputs": [],
   "execution_count": null,
   "source": [
    "def transform(self, X, y=None):\n",
    "    rooms_per_household = X[:, rooms_ix] / X[:, households_ix]\n",
    "    population_per_household = X[:, population_ix] / X[:, households_ix]\n",
    "    if self.add_bedrooms_per_room:\n",
    "        bedrooms_per_room = X[:, bedrooms_ix] / X[:,rooms_ix]\n",
    "        return np.c_[X, rooms_per_household, population_per_household]\n",
    "    \n",
    "attr_adder = CombinedAttributesAdder(add_bedrooms_per_room=False)\n",
    "housing_extra_attribs = attr_adder.transform(housing.values)"
   ],
   "id": "ca607c620be6f7c"
  },
  {
   "metadata": {},
   "cell_type": "code",
   "outputs": [],
   "execution_count": null,
   "source": [
    "from sklearn.pipeline import Pipeline\n",
    "from sklearn.preprocessing import StandardScaler\n",
    "\n",
    "num_pipeline = Pipeline([\n",
    "    ('imputer', SimpleImputer(strategy=\"median\")),\n",
    "    ('attribs_adder', CombinedAttributesAdder()),\n",
    "    ('std_scaler', StandardScaler())\n",
    "])\n",
    "\n",
    "housing_num_tr = num_pipeline.fit_transform(housing_num)"
   ],
   "id": "4c5b1ca9a1e5d530"
  },
  {
   "metadata": {},
   "cell_type": "code",
   "outputs": [],
   "execution_count": null,
   "source": [
    "num_attribs = list(housing_num)\n",
    "cat_attibs = [\"ocean_proximity\"]\n",
    "\n",
    "full_pipeline = ColumnTransformer([\n",
    "    (\"num\", num_pipeline, num_attribs),\n",
    "    (\"cat\", OneHotEncoder(), cat_attibs),\n",
    "     \n",
    "])\n",
    "\n",
    "housing_prepared = full_pipeline.fit_transform(housing)"
   ],
   "id": "92b109b08fa08193"
  },
  {
   "metadata": {},
   "cell_type": "code",
   "outputs": [],
   "execution_count": null,
   "source": [
    "from sklearn.linear_model import LinearRegression\n",
    "lin_reg = LinearRegression\n",
    "lin_reg.fit(housing_prepared, housing_labels)"
   ],
   "id": "de62fc07a5e88b08"
  },
  {
   "metadata": {},
   "cell_type": "code",
   "outputs": [],
   "execution_count": null,
   "source": [
    "some_data = housing, iloc[:5]\n",
    "some_labels = housing labels.iloc[:5]\n",
    "some_data_prepared = full_pipelin.transform(some_data)\n",
    "print(\"Predications:\", lin_reg.predict(some_data_prepared))\n",
    "print(\"Labels:\", list(some_labels))"
   ],
   "id": "9cb4c6997a697e20"
  },
  {
   "metadata": {
    "ExecuteTime": {
     "end_time": "2024-05-31T00:12:50.428206Z",
     "start_time": "2024-05-31T00:12:50.411379Z"
    }
   },
   "cell_type": "code",
   "source": [
    "from sklearn.metrics import mean_squared_error\n",
    "housing_predictions = lin_reg.predict(housing_prepared)\n",
    "lin_mse = mean_squared_error(housing_labels, housing_predictions)\n",
    "lin_rmse = np.sqrt(lin_mse)\n",
    "lin_rmse"
   ],
   "id": "6a37a669f6a2628a",
   "outputs": [
    {
     "ename": "NameError",
     "evalue": "name 'lin_reg' is not defined",
     "output_type": "error",
     "traceback": [
      "\u001B[1;31m---------------------------------------------------------------------------\u001B[0m",
      "\u001B[1;31mNameError\u001B[0m                                 Traceback (most recent call last)",
      "Cell \u001B[1;32mIn[3], line 2\u001B[0m\n\u001B[0;32m      1\u001B[0m \u001B[38;5;28;01mfrom\u001B[39;00m \u001B[38;5;21;01msklearn\u001B[39;00m\u001B[38;5;21;01m.\u001B[39;00m\u001B[38;5;21;01mmetrics\u001B[39;00m \u001B[38;5;28;01mimport\u001B[39;00m mean_squared_error\n\u001B[1;32m----> 2\u001B[0m housing_predictions \u001B[38;5;241m=\u001B[39m lin_reg\u001B[38;5;241m.\u001B[39mpredict(housing_prepared)\n\u001B[0;32m      3\u001B[0m lin_mse \u001B[38;5;241m=\u001B[39m mean_squared_error(housing_labels, housing_predictions)\n\u001B[0;32m      4\u001B[0m lin_rmse \u001B[38;5;241m=\u001B[39m np\u001B[38;5;241m.\u001B[39msqrt(lin_mse)\n",
      "\u001B[1;31mNameError\u001B[0m: name 'lin_reg' is not defined"
     ]
    }
   ],
   "execution_count": 3
  },
  {
   "metadata": {
    "ExecuteTime": {
     "end_time": "2024-05-31T00:12:48.547495Z",
     "start_time": "2024-05-31T00:12:47.444855Z"
    }
   },
   "cell_type": "code",
   "source": [
    "from sklearn.tree import DecisionTreeRegressor \n",
    "\n",
    "tree_reg = DecisionTreeRegressor()\n",
    "tree_reg.fit(housing_prepared, housing_labels)"
   ],
   "id": "3b4f5153af1084ff",
   "outputs": [
    {
     "ename": "NameError",
     "evalue": "name 'housing_prepared' is not defined",
     "output_type": "error",
     "traceback": [
      "\u001B[1;31m---------------------------------------------------------------------------\u001B[0m",
      "\u001B[1;31mNameError\u001B[0m                                 Traceback (most recent call last)",
      "Cell \u001B[1;32mIn[2], line 4\u001B[0m\n\u001B[0;32m      1\u001B[0m \u001B[38;5;28;01mfrom\u001B[39;00m \u001B[38;5;21;01msklearn\u001B[39;00m\u001B[38;5;21;01m.\u001B[39;00m\u001B[38;5;21;01mtree\u001B[39;00m \u001B[38;5;28;01mimport\u001B[39;00m DecisionTreeRegressor \n\u001B[0;32m      3\u001B[0m tree_reg \u001B[38;5;241m=\u001B[39m DecisionTreeRegressor()\n\u001B[1;32m----> 4\u001B[0m tree_reg\u001B[38;5;241m.\u001B[39mfit(housing_prepared, housing_labels)\n",
      "\u001B[1;31mNameError\u001B[0m: name 'housing_prepared' is not defined"
     ]
    }
   ],
   "execution_count": 2
  },
  {
   "metadata": {},
   "cell_type": "code",
   "outputs": [],
   "execution_count": null,
   "source": [
    "housing_predictions = tree_reg.predict(housing_prepared)\n",
    "tree_mse = mean_squared_error(housing_labels, housing_predictions)\n",
    "tree_mse_rmse = np.sqrt(tree_mse)\n",
    "tree_rmse"
   ],
   "id": "4544b4244b915503"
  },
  {
   "metadata": {},
   "cell_type": "markdown",
   "source": "Feito até pagina 58\n",
   "id": "f608e36ba1d37fd0"
  },
  {
   "metadata": {},
   "cell_type": "code",
   "outputs": [],
   "execution_count": null,
   "source": "",
   "id": "c26d906a9726e1d8"
  },
  {
   "metadata": {},
   "cell_type": "code",
   "outputs": [],
   "execution_count": null,
   "source": "",
   "id": "8797e0c8b7351cc5"
  },
  {
   "metadata": {},
   "cell_type": "code",
   "outputs": [],
   "execution_count": null,
   "source": "",
   "id": "b46eba764b1a329"
  },
  {
   "metadata": {},
   "cell_type": "code",
   "outputs": [],
   "execution_count": null,
   "source": "",
   "id": "cb91317f7127a10c"
  },
  {
   "metadata": {},
   "cell_type": "code",
   "outputs": [],
   "execution_count": null,
   "source": [
    "from sklearn.model_selection import cross_val_score\n",
    "scross = cross_val_score(tree_reg, housing_prepared, housing_labels, scoring=\"neg_mean_squared_error\",cv=10\n",
    "tree_rmse_scores = np.sqrt(-scores))\n",
    "                          "
   ],
   "id": "d94e62144a1b2be"
  },
  {
   "metadata": {},
   "cell_type": "code",
   "outputs": [],
   "execution_count": null,
   "source": "",
   "id": "b46b9c496e2361e8"
  }
 ],
 "metadata": {
  "kernelspec": {
   "display_name": "Python 3",
   "language": "python",
   "name": "python3"
  },
  "language_info": {
   "codemirror_mode": {
    "name": "ipython",
    "version": 2
   },
   "file_extension": ".py",
   "mimetype": "text/x-python",
   "name": "python",
   "nbconvert_exporter": "python",
   "pygments_lexer": "ipython2",
   "version": "2.7.6"
  }
 },
 "nbformat": 4,
 "nbformat_minor": 5
}
